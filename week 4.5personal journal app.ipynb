{
 "cells": [
  {
   "cell_type": "markdown",
   "id": "68a6b186-da4b-4f2c-942b-5eb41cda3bf8",
   "metadata": {},
   "source": [
    "#personal journal app"
   ]
  },
  {
   "cell_type": "code",
   "execution_count": 2,
   "id": "a925858a-70f7-4313-805e-f9850db2d0b0",
   "metadata": {},
   "outputs": [
    {
     "name": "stdout",
     "output_type": "stream",
     "text": [
      "\n",
      "--- Personal Journal ---\n",
      "1. Write a new journal entry\n",
      "2. View a journal entry by date\n",
      "0. Exit\n"
     ]
    },
    {
     "name": "stdin",
     "output_type": "stream",
     "text": [
      "Choose an option:  1\n",
      "Enter the date for the entry (YYYY-MM-DD) or press Enter for today's date:  2024-10-08\n",
      "Write your journal entry for 2024-10-08:\n",
      " I will complete my projects\n"
     ]
    },
    {
     "name": "stdout",
     "output_type": "stream",
     "text": [
      "Journal entry saved for 2024-10-08.\n",
      "\n",
      "--- Personal Journal ---\n",
      "1. Write a new journal entry\n",
      "2. View a journal entry by date\n",
      "0. Exit\n"
     ]
    },
    {
     "name": "stdin",
     "output_type": "stream",
     "text": [
      "Choose an option:  2\n",
      "Enter the date of the journal entry you want to view (YYYY-MM-DD):  2024-10-08\n"
     ]
    },
    {
     "name": "stdout",
     "output_type": "stream",
     "text": [
      "Journal entry for 2024-10-08:\n",
      "\n",
      "16:38:32 - I will complete my projects\n",
      "\n",
      "\n",
      "--- Personal Journal ---\n",
      "1. Write a new journal entry\n",
      "2. View a journal entry by date\n",
      "0. Exit\n"
     ]
    },
    {
     "name": "stdin",
     "output_type": "stream",
     "text": [
      "Choose an option:  0\n"
     ]
    },
    {
     "name": "stdout",
     "output_type": "stream",
     "text": [
      "Exiting journal. bye bye!\n"
     ]
    }
   ],
   "source": [
    "import os\n",
    "from datetime import datetime\n",
    "\n",
    "# Directory to store journal entries\n",
    "journal_dir = \"journal_entries\"\n",
    "\n",
    "# Ensure the directory exists\n",
    "if not os.path.exists(journal_dir):\n",
    "    os.makedirs(journal_dir)\n",
    "\n",
    "# Function to write a journal entry\n",
    "def write_journal():\n",
    "    # Get current date as the default date for the entry\n",
    "    date = input(\"Enter the date for the entry (YYYY-MM-DD) or press Enter for today's date: \")\n",
    "    if not date:\n",
    "        date = datetime.now().strftime('%Y-%m-%d')\n",
    "\n",
    "    entry = input(f\"Write your journal entry for {date}:\\n\")\n",
    "    \n",
    "    # Create a file named by the date, store the entry\n",
    "    file_name = f\"{journal_dir}/{date}.txt\"\n",
    "    with open(file_name, 'a') as file:\n",
    "        file.write(f\"{datetime.now().strftime('%H:%M:%S')} - {entry}\\n\")\n",
    "    \n",
    "    print(f\"Journal entry saved for {date}.\")\n",
    "\n",
    "# Function to view a journal entry by date\n",
    "def view_journal():\n",
    "    date = input(\"Enter the date of the journal entry you want to view (YYYY-MM-DD): \")\n",
    "    file_name = f\"{journal_dir}/{date}.txt\"   # Build the file path based on the date\n",
    "\n",
    "    # Check if the entry exists for the given date\n",
    "    if os.path.exists(file_name):\n",
    "        with open(file_name, 'r') as file:\n",
    "            print(f\"Journal entry for {date}:\\n\")\n",
    "            print(file.read())   # Display the journal content\n",
    "    else:\n",
    "        print(f\"No journal entry found for {date}.\")\n",
    "\n",
    "# Main menu function\n",
    "def journal_menu():\n",
    "    while True:  # Run an infinite loop until the user chooses to exit\n",
    "        print(\"\\n--- Personal Journal ---\")\n",
    "        print(\"1. Write a new journal entry\")\n",
    "        print(\"2. View a journal entry by date\")\n",
    "        print(\"0. Exit\")\n",
    "\n",
    "        # Get the user's choice\n",
    "        choice = input(\"Choose an option: \")\n",
    "        \n",
    "        if choice == '1':\n",
    "            write_journal()   # Call function to write a new journal entry\n",
    "        elif choice == '2':\n",
    "            view_journal()     #Call function to view a journal entry\n",
    "        elif choice == '0':\n",
    "            print(\"Exiting journal. bye bye!\")   # Exit the application\n",
    "            break\n",
    "        else:\n",
    "            print(\"Invalid option, please try again.\")\n",
    "\n",
    "# call the journal_menu function\n",
    "journal_menu()\n"
   ]
  },
  {
   "cell_type": "code",
   "execution_count": null,
   "id": "5d09df45-b8de-472c-9c28-f900ceb9bdd1",
   "metadata": {},
   "outputs": [],
   "source": []
  }
 ],
 "metadata": {
  "kernelspec": {
   "display_name": "Python 3 (ipykernel)",
   "language": "python",
   "name": "python3"
  },
  "language_info": {
   "codemirror_mode": {
    "name": "ipython",
    "version": 3
   },
   "file_extension": ".py",
   "mimetype": "text/x-python",
   "name": "python",
   "nbconvert_exporter": "python",
   "pygments_lexer": "ipython3",
   "version": "3.12.4"
  }
 },
 "nbformat": 4,
 "nbformat_minor": 5
}
