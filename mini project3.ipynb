{
 "cells": [
  {
   "cell_type": "code",
   "execution_count": null,
   "id": "2dcc1a27-fd11-4b55-b154-264e7390fa8d",
   "metadata": {},
   "outputs": [],
   "source": [
    "# temperature converter"
   ]
  },
  {
   "cell_type": "code",
   "execution_count": 19,
   "id": "d2d2a079-679a-42cb-9ff8-339fcb4ec7d1",
   "metadata": {},
   "outputs": [
    {
     "name": "stdin",
     "output_type": "stream",
     "text": [
      " select a number from 1-6 3\n"
     ]
    },
    {
     "name": "stdout",
     "output_type": "stream",
     "text": [
      "Fahrenheit to Celsius\n"
     ]
    },
    {
     "name": "stdin",
     "output_type": "stream",
     "text": [
      "Enter temperature in Fahrenheit:  25\n"
     ]
    },
    {
     "name": "stdout",
     "output_type": "stream",
     "text": [
      "25.0°F is -3.888888888888889°C\n"
     ]
    }
   ],
   "source": [
    "number = int(input(\" select a numb3er from 1-6\"))\n",
    "\n",
    "#1.conversion from Celsius to Fahrenheit\n",
    "if number == 1:\n",
    "    print(\"Celsius to Fahrenheit\")\n",
    "    temperature = float(input(\"Enter temperature in Celsius: \"))\n",
    "    fahrenheit = (temperature * 9/5) + 32\n",
    "    print(f\"{temperature}°C is {fahrenheit}°F\")\n",
    "    \n",
    "#2.conversion from Celsius to Kelvin\n",
    "elif number == 2:\n",
    "    print(\"Celsius to Kelvin\")\n",
    "    temperature= float(input(\"Enter temperature in Celsius: \"))\n",
    "    kelvin =temperature + 273.15\n",
    "    print(f\"{temperature}°C is {kelvin}K\")\n",
    "    \n",
    "    \n",
    "#3.conversion from Fahrenheit to Celsius\n",
    "elif number == 3:\n",
    "    print(\"Fahrenheit to Celsius\")\n",
    "    temperature = float(input(\"Enter temperature in Fahrenheit: \"))\n",
    "    celsius = (temperature - 32) * 5/9\n",
    "    print(f\"{temperature}°F is {celsius}°C\")\n",
    "    \n",
    "#4.conversion from Fahrenheit to Kelvin\n",
    "elif number == 4:\n",
    "    print(\"Fahrenheit to Kelvin\")\n",
    "    temperature = float(input(\"Enter temperature in Fahrenheit: \"))\n",
    "    celsius = (temperature - 32) * 5/9\n",
    "    kelvin = celsius + 273.15\n",
    "    print(f\"{temperature}°F is {kelvin}K\")\n",
    "    \n",
    "#5.conversion from Kelvin to Celsius\n",
    "elif number == 5:\n",
    "    print(\"Kelvin to Celsius\")\n",
    "    temperature= float(input(\"Enter temperature in Kelvin: \"))\n",
    "    celsius = temperature - 273.15\n",
    "    print(f\"{temperature}K is {celsius}°C\")\n",
    "  \n",
    "#6.conversion from Kelvin to Fahrenheit\n",
    "elif number == 6:\n",
    "    print(\"Kelvin to Fahrenheit\")\n",
    "    temperature = float(input(\"Enter temperature in Kelvin: \"))\n",
    "    celsius = temperature- 273.15\n",
    "    fahrenheit = (celsius * 9/5) + 32\n",
    "    print(f\"{temperature}K is {fahrenheit}°F\")\n",
    "\n",
    "else:\n",
    "    print(\"error.select a valid option.\")\n"
   ]
  },
  {
   "cell_type": "code",
   "execution_count": null,
   "id": "91fa0c81-8a6c-45e3-83d1-dde5212fe6bd",
   "metadata": {},
   "outputs": [],
   "source": []
  }
 ],
 "metadata": {
  "kernelspec": {
   "display_name": "Python 3 (ipykernel)",
   "language": "python",
   "name": "python3"
  },
  "language_info": {
   "codemirror_mode": {
    "name": "ipython",
    "version": 3
   },
   "file_extension": ".py",
   "mimetype": "text/x-python",
   "name": "python",
   "nbconvert_exporter": "python",
   "pygments_lexer": "ipython3",
   "version": "3.12.4"
  }
 },
 "nbformat": 4,
 "nbformat_minor": 5
}
