{
 "cells": [
  {
   "cell_type": "code",
   "execution_count": 1,
   "id": "606015a1-cfc1-41f9-8839-1e65b1759ff8",
   "metadata": {},
   "outputs": [],
   "source": [
    "#basic banking assignment"
   ]
  },
  {
   "cell_type": "code",
   "execution_count": 2,
   "id": "5dced3be-c5c4-43c4-9a82-2cc062cfcd50",
   "metadata": {},
   "outputs": [
    {
     "name": "stdout",
     "output_type": "stream",
     "text": [
      "press 1 = balance \n",
      "press 2 = deposit\n",
      "press 3 = withdraw\n",
      "press 4 to exit\n"
     ]
    },
    {
     "name": "stdout",
     "output_type": "stream",
     "text": [
      "Enter 1-4 number 1\n"
     ]
    },
    {
     "name": "stdout",
     "output_type": "stream",
     "text": [
      "Total_amount is:9000\n",
      "press 1 = balance \n",
      "press 2 = deposit\n",
      "press 3 = withdraw\n",
      "press 4 to exit\n"
     ]
    },
    {
     "name": "stdout",
     "output_type": "stream",
     "text": [
      "Enter 1-4 number 2\n",
      "enter deposit amount 1000\n"
     ]
    },
    {
     "name": "stdout",
     "output_type": "stream",
     "text": [
      "Current_Balance : 10000\n",
      "press 1 = balance \n",
      "press 2 = deposit\n",
      "press 3 = withdraw\n",
      "press 4 to exit\n"
     ]
    },
    {
     "name": "stdout",
     "output_type": "stream",
     "text": [
      "Enter 1-4 number 3\n",
      "enter withdrawn amount 1000\n"
     ]
    },
    {
     "name": "stdout",
     "output_type": "stream",
     "text": [
      "Current_Balance : 8000\n",
      "press 1 = balance \n",
      "press 2 = deposit\n",
      "press 3 = withdraw\n",
      "press 4 to exit\n"
     ]
    },
    {
     "name": "stdout",
     "output_type": "stream",
     "text": [
      "Enter 1-4 number 4\n"
     ]
    },
    {
     "name": "stdout",
     "output_type": "stream",
     "text": [
      "exit\n"
     ]
    }
   ],
   "source": [
    "amount_balance=9000  # global variable\n",
    "\n",
    "def basic_banking():\n",
    "    global amount_balance\n",
    "\n",
    "while True: \n",
    "    print(\"press 1 = Total amount \")\n",
    "    print(\"press 2 = deposit\")\n",
    "    print(\"press 3 = withdraw\")\n",
    "    print(\"press 4 to exit\")\n",
    "    temp=int(input(\"Enter 1-4 number\"))\n",
    "#total balance \n",
    "    if temp==1:\n",
    "        print(f\"Total_amount is:{amount_balance}\")\n",
    "#deposit       \n",
    "    elif temp==2:\n",
    "        \n",
    "        deposit_amount=int(input(\"enter deposit amount\"))\n",
    "        current_balance=amount_balance+deposit_amount\n",
    "        print(f\"Total_amount is: {current_balance}\")\n",
    "#withdraw      \n",
    "    elif temp==3:  \n",
    "        \n",
    "        withdrawn_amount=int(input(\"enter withdrawn amount\"))\n",
    "        current_balance=amount_balance-withdrawn_amount\n",
    "        print(f\"Total_amount is : {current_balance}\")\n",
    "      \n",
    "    elif temp==4:\n",
    "        print(\"exit\")\n",
    "        break\n",
    "basic_banking()        "
   ]
  },
  {
   "cell_type": "code",
   "execution_count": null,
   "id": "baf70c0a-b935-4a0c-95a8-6615988fe6e2",
   "metadata": {},
   "outputs": [],
   "source": []
  }
 ],
 "metadata": {
  "kernelspec": {
   "display_name": "Python 3 (ipykernel)",
   "language": "python",
   "name": "python3"
  },
  "language_info": {
   "codemirror_mode": {
    "name": "ipython",
    "version": 3
   },
   "file_extension": ".py",
   "mimetype": "text/x-python",
   "name": "python",
   "nbconvert_exporter": "python",
   "pygments_lexer": "ipython3",
   "version": "3.12.4"
  }
 },
 "nbformat": 4,
 "nbformat_minor": 5
}
