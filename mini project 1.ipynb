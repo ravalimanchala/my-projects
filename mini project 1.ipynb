{
 "cells": [
  {
   "cell_type": "code",
   "execution_count": 1,
   "id": "0c431279-034e-46a5-a57b-06c4fc75ea80",
   "metadata": {},
   "outputs": [],
   "source": [
    "# 1.simple interest"
   ]
  },
  {
   "cell_type": "code",
   "execution_count": 10,
   "id": "4233bf7c-de0a-4105-810f-4f95c0a97431",
   "metadata": {},
   "outputs": [
    {
     "name": "stdout",
     "output_type": "stream",
     "text": [
      "enter principal value\n",
      "enter time\n",
      "enter rate of interest\n",
      "SI: 30.00\n",
      "Amount: 230.00\n"
     ]
    }
   ],
   "source": [
    "#P=Principal\n",
    "#T=Time\n",
    "#R=Rate of interest\n",
    "#SI=Simple Interest\n",
    "def SI(P, T, R):\n",
    "    SI = (P * T * R) / 100\n",
    "    amount = P + SI\n",
    "    return SI, amount\n",
    "P=int(input(\"enter principal value\"))\n",
    "T=int(input(\"enter time\"))\n",
    "R=int(input((\"enter rate of interest\")\n",
    "#P = 200\n",
    "#T = 5\n",
    "#R = 3\n",
    "interest, total = SI(P, T, R)\n",
    "\n",
    "# Printing the results\n",
    "print(f\"SI: {interest:.2f}\")\n",
    "print(f\"Amount: {total:.2f}\")\n"
   ]
  },
  {
   "cell_type": "code",
   "execution_count": null,
   "id": "16c75543-2fbf-4bbd-89d7-c4a365c7ab6b",
   "metadata": {},
   "outputs": [],
   "source": []
  }
 ],
 "metadata": {
  "kernelspec": {
   "display_name": "Python 3 (ipykernel)",
   "language": "python",
   "name": "python3"
  },
  "language_info": {
   "codemirror_mode": {
    "name": "ipython",
    "version": 3
   },
   "file_extension": ".py",
   "mimetype": "text/x-python",
   "name": "python",
   "nbconvert_exporter": "python",
   "pygments_lexer": "ipython3",
   "version": "3.12.4"
  }
 },
 "nbformat": 4,
 "nbformat_minor": 5
}
