{
 "cells": [
  {
   "cell_type": "code",
   "execution_count": 1,
   "id": "2f8e1a74-6af9-4a46-a789-fb610e8f7f42",
   "metadata": {},
   "outputs": [],
   "source": [
    "#week 2 assignment"
   ]
  },
  {
   "cell_type": "code",
   "execution_count": 19,
   "id": "3d1004c9-e800-4256-9d48-c0e23341b98e",
   "metadata": {},
   "outputs": [
    {
     "name": "stdin",
     "output_type": "stream",
     "text": [
      "Enter a value:  -3\n",
      "Enter b value:  -2\n",
      "Enter an operation +\n"
     ]
    },
    {
     "name": "stdout",
     "output_type": "stream",
     "text": [
      " a + b is:-5\n"
     ]
    }
   ],
   "source": [
    "a = int(input(\"Enter a value: \"))\n",
    "b = int(input(\"Enter b value: \"))\n",
    "operation = input(\"Enter an operation\")\n",
    "\n",
    "#addition\n",
    "if operation == '+':\n",
    "    result = a + b\n",
    "    print(f\" a + b is:{result}\")\n",
    "\n",
    "#subtraction\n",
    "elif operation == '-':\n",
    "    result = a - b\n",
    "    print(f\"a - b is:{result}\")\n",
    "    \n",
    "#multiplication\n",
    "elif operation == '*':\n",
    "    result = a * b\n",
    "    print(f\"a*b is:{result}\")\n",
    "    \n",
    "#division    \n",
    "elif operation == '/':\n",
    "    \n",
    "    try:\n",
    "        \n",
    "        if b==0:\n",
    "            print(\"b  is not divisible by 0\")\n",
    "        else:\n",
    "            \n",
    "        \n",
    "        \n",
    "        \n",
    "        \n",
    "            \n",
    "            print(f\"a/b is:{result}\")\n",
    "             \n",
    "             \n",
    "       \n",
    "             \n",
    "       \n",
    "\n",
    "    except Exception as e:\n",
    "        \n",
    "        print(e)\n",
    "\n",
    "else:\n",
    "    print(\"Invalid operation Please select +, -, *, or /.\")\n",
    "    "
   ]
  },
  {
   "cell_type": "code",
   "execution_count": null,
   "id": "1112f39c-8fe1-48f5-ab9f-2480052c0109",
   "metadata": {},
   "outputs": [],
   "source": []
  }
 ],
 "metadata": {
  "kernelspec": {
   "display_name": "Python 3 (ipykernel)",
   "language": "python",
   "name": "python3"
  },
  "language_info": {
   "codemirror_mode": {
    "name": "ipython",
    "version": 3
   },
   "file_extension": ".py",
   "mimetype": "text/x-python",
   "name": "python",
   "nbconvert_exporter": "python",
   "pygments_lexer": "ipython3",
   "version": "3.12.4"
  }
 },
 "nbformat": 4,
 "nbformat_minor": 5
}
