{
 "cells": [
  {
   "cell_type": "code",
   "execution_count": 1,
   "id": "54a344a1-8279-44f6-af63-f3ec8d490da3",
   "metadata": {},
   "outputs": [],
   "source": [
    "#number guess game"
   ]
  },
  {
   "cell_type": "code",
   "execution_count": 2,
   "id": "b0fce212-6c56-4098-b618-5f65c3fe25ea",
   "metadata": {},
   "outputs": [
    {
     "name": "stdout",
     "output_type": "stream",
     "text": [
      "random_number is: 47\n"
     ]
    },
    {
     "name": "stdin",
     "output_type": "stream",
     "text": [
      "guess a number between 1 and 20:  20\n"
     ]
    },
    {
     "name": "stdout",
     "output_type": "stream",
     "text": [
      "invalid number\n"
     ]
    },
    {
     "name": "stdin",
     "output_type": "stream",
     "text": [
      "guess a number between 1 and 20:  52\n"
     ]
    },
    {
     "name": "stdout",
     "output_type": "stream",
     "text": [
      "You're getting warmer\n"
     ]
    },
    {
     "name": "stdin",
     "output_type": "stream",
     "text": [
      "guess a number between 1 and 20:  47\n"
     ]
    },
    {
     "name": "stdout",
     "output_type": "stream",
     "text": [
      "Your guess is correct \n"
     ]
    }
   ],
   "source": [
    "import random \n",
    "#random number is automatically generated \n",
    "\n",
    "random_number = random.randint(1, 50)\n",
    "print(\"random_number is:\", random_number )\n",
    "\n",
    "# defining a function\n",
    "def number_guess_game():\n",
    "    \n",
    "    attempts = 0  \n",
    "    \n",
    "    while True:\n",
    "        guess_A_number = int(input(\"guess a number between 1 and 50: \"))\n",
    "        \n",
    "        differance_number = random_number - guess_A_number  \n",
    "        \n",
    "\n",
    "#correct condition\n",
    "        if differance_number == 0:\n",
    "            print(f\"Your guess is correct \")\n",
    "            break # Exit the loop\n",
    "        elif differance_number <= 5:\n",
    "            print(\"You're getting warmer\")\n",
    "        elif differance_number <= 10:\n",
    "            print(\"Too cold\")\n",
    "        else:\n",
    "            print(\"invalid number!...guess the correct number\")\n",
    "            attempts += 1\n",
    "        \n",
    "\n",
    "    \n",
    "\n",
    "# Calling the function\n",
    "number_guess_game()\n"
   ]
  },
  {
   "cell_type": "code",
   "execution_count": null,
   "id": "231a0ec1-ca92-412d-a48e-8444c6b42c91",
   "metadata": {},
   "outputs": [],
   "source": []
  }
 ],
 "metadata": {
  "kernelspec": {
   "display_name": "Python 3 (ipykernel)",
   "language": "python",
   "name": "python3"
  },
  "language_info": {
   "codemirror_mode": {
    "name": "ipython",
    "version": 3
   },
   "file_extension": ".py",
   "mimetype": "text/x-python",
   "name": "python",
   "nbconvert_exporter": "python",
   "pygments_lexer": "ipython3",
   "version": "3.12.4"
  }
 },
 "nbformat": 4,
 "nbformat_minor": 5
}
