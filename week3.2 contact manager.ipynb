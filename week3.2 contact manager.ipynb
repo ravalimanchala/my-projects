{
 "cells": [
  {
   "cell_type": "code",
   "execution_count": null,
   "id": "dc4fbf68-4846-4580-abbe-48decc02b857",
   "metadata": {},
   "outputs": [
    {
     "name": "stdout",
     "output_type": "stream",
     "text": [
      "\n",
      "Enter 1 to store contact details\n",
      "Enter 2 to search a contact\n",
      "Enter 3 to update a contact\n",
      "Enter 4 to filter contacts by email domain\n",
      "Enter 5 to exit\n"
     ]
    },
    {
     "name": "stdin",
     "output_type": "stream",
     "text": [
      "Enter your choice:  1\n",
      "Enter name:  ravali\n",
      "Enter phone number:  9059683830\n",
      "Enter email:  ravali@gmail.com\n"
     ]
    },
    {
     "name": "stdout",
     "output_type": "stream",
     "text": [
      "Stored ravali's contact details: Phone: 9059683830, Email: ravali@gmail.com\n"
     ]
    },
    {
     "name": "stdin",
     "output_type": "stream",
     "text": [
      "Press Enter to continue or 'exit' to quit:  continue\n"
     ]
    },
    {
     "name": "stdout",
     "output_type": "stream",
     "text": [
      "\n",
      "Enter 1 to store contact details\n",
      "Enter 2 to search a contact\n",
      "Enter 3 to update a contact\n",
      "Enter 4 to filter contacts by email domain\n",
      "Enter 5 to exit\n"
     ]
    },
    {
     "name": "stdin",
     "output_type": "stream",
     "text": [
      "Enter your choice:  2\n",
      "Enter name to search:  ravali\n"
     ]
    },
    {
     "name": "stdout",
     "output_type": "stream",
     "text": [
      "Contact details for ravali - Phone: 9059683830, Email: ravali@gmail.com\n"
     ]
    },
    {
     "name": "stdin",
     "output_type": "stream",
     "text": [
      "Press Enter to continue or 'exit' to quit:  continue\n"
     ]
    },
    {
     "name": "stdout",
     "output_type": "stream",
     "text": [
      "\n",
      "Enter 1 to store contact details\n",
      "Enter 2 to search a contact\n",
      "Enter 3 to update a contact\n",
      "Enter 4 to filter contacts by email domain\n",
      "Enter 5 to exit\n"
     ]
    },
    {
     "name": "stdin",
     "output_type": "stream",
     "text": [
      "Enter your choice:  3\n",
      "Enter the name whose details you want to update:  ravali\n",
      "Enter new phone number (or press Enter to skip):  7661067158\n",
      "Enter new email (or press Enter to skip):  venky@gmail.com\n"
     ]
    },
    {
     "name": "stdout",
     "output_type": "stream",
     "text": [
      "ravali's contact details have been updated to: {'Phone': '7661067158', 'Email': 'venky@gmail.com'}\n"
     ]
    },
    {
     "name": "stdin",
     "output_type": "stream",
     "text": [
      "Press Enter to continue or 'exit' to quit:  continue\n"
     ]
    },
    {
     "name": "stdout",
     "output_type": "stream",
     "text": [
      "\n",
      "Enter 1 to store contact details\n",
      "Enter 2 to search a contact\n",
      "Enter 3 to update a contact\n",
      "Enter 4 to filter contacts by email domain\n",
      "Enter 5 to exit\n"
     ]
    },
    {
     "name": "stdin",
     "output_type": "stream",
     "text": [
      "Enter your choice:  4\n"
     ]
    }
   ],
   "source": [
    "# create an empty dictionary to store contact details\n",
    "contacts = {}\n",
    "\n",
    "# defining a Function to store name,phone_number,email\n",
    "def store_contact(name, phone_number, email):\n",
    "    \n",
    "# Store the contact details (phone and email) in the contacts dictionary, with 'name' as the key\n",
    "    contacts[name] = {'Phone': phone_number, 'Email': email}\n",
    "    print(f\"Stored {name}'s contact details: Phone: {phone_number}, Email: {email}\")\n",
    "\n",
    "# defining the Function to search for name\n",
    "def search_contact(name):\n",
    "    \n",
    "# Check if the contact exists in the contacts dictionary\n",
    "    if name in contacts:\n",
    "        details = contacts[name]\n",
    "        \n",
    "        # Print the contact details\n",
    "        print(f\"Contact details for {name} - Phone: {details['Phone']}, Email: {details['Email']}\")\n",
    "    else:\n",
    "        print(f\"{name} is not in the contact list.\")\n",
    "\n",
    "\n",
    "# Function to update an existing contact's details\n",
    "def update_contact(name, phone_number=None, email=None):\n",
    "    \n",
    "    # Check if the contact exists\n",
    "    if name in contacts:\n",
    "        \n",
    "        # Update the phone number if a new one is provided\n",
    "        if phone_number:\n",
    "            contacts[name]['Phone'] = phone_number\n",
    "            \n",
    "        # Update the email if a new one is provided\n",
    "        if email:\n",
    "            contacts[name]['Email'] = email\n",
    "            \n",
    "        \n",
    "        print(f\"{name}'s contact details have been updated to: {contacts[name]}\")\n",
    "    else:\n",
    "        print(f\"{name} is not in the contact list.\")\n",
    "\n",
    "\n",
    "# Function to filter contacts by a specific email domain\n",
    "def filter_contacts_by_email_domain(domain):\n",
    "    \n",
    "    # Filter contacts \n",
    "    filtered_contacts = {name: details for name, details in contacts.items() if domain in details['Email']}\n",
    "    \n",
    "   \n",
    "    if filtered_contacts:\n",
    "        print(f\"Contacts with email domain '{domain}':\")\n",
    "        \n",
    "        for name, details in filtered_contacts.items():\n",
    "            print(f\"Name: {name}, Phone: {details['Phone']}, Email: {details['Email']}\")\n",
    "    else:\n",
    "       \n",
    "        print(f\"No contacts found with domain '{domain}'.\")\n",
    "\n",
    "\n",
    "# # loop for choosing operation from user for below operations \n",
    "while True:\n",
    "   \n",
    "    print(\"\\nEnter 1 to store contact details\")\n",
    "    print(\"Enter 2 to search a contact\")\n",
    "    print(\"Enter 3 to update a contact\")\n",
    "    print(\"Enter 4 to filter contacts by email domain\")\n",
    "    print(\"Enter 5 to exit\")\n",
    "    \n",
    " # using try and except method for handling run time error  \n",
    "    try:\n",
    "        res = int(input(\"Enter your choice: \"))\n",
    "        # taken input from user \n",
    "\n",
    "        # for updating contact details \n",
    "        if res == 1:\n",
    "            name = input(\"Enter name: \")\n",
    "            phone_number = input(\"Enter phone number: \")\n",
    "            email = input(\"Enter email: \")\n",
    "            store_contact(name, phone_number, email)\n",
    "        # for searching  contact details \n",
    "        elif res == 2:\n",
    "            name = input(\"Enter name to search: \")\n",
    "            search_contact(name)\n",
    "        # for updating existing contact details \n",
    "        elif res == 3:\n",
    "            name = input(\"Enter the name whose details you want to update: \")\n",
    "            phone_number = input(\"Enter new phone number (or press Enter to skip): \") or None\n",
    "            email = input(\"Enter new email (or press Enter to skip): \") or None\n",
    "            update_contact(name, phone_number, email)\n",
    "        # for filtering contacts by email id \n",
    "        elif res == 4:\n",
    "            domain = input(\"Enter email domain to filter (e.g., gmail.com): \")\n",
    "            filter_contacts_by_email_domain(domain)\n",
    "        # for exiting program \n",
    "        elif res == 5:\n",
    "            print(\"Exiting the program...\")\n",
    "            break\n",
    "        \n",
    "        else:\n",
    "            print(\"Invalid input! Please enter a valid number.\")\n",
    "    \n",
    "    except ValueError:\n",
    "        print(\"Invalid input! Please enter a number.\")\n",
    "# this block used to exit program \n",
    "    continue_choice = input(\"Press Enter to continue or 'exit' to quit: \")\n",
    "    if continue_choice.lower() == 'exit':\n",
    "        print(\"Exiting the program...\")\n",
    "        break\n",
    "\n",
    "    \n",
    "  \n",
    "\n",
    "        \n"
   ]
  },
  {
   "cell_type": "code",
   "execution_count": null,
   "id": "38c073fc-1c79-4e5d-bb7a-eb73d5dad741",
   "metadata": {},
   "outputs": [],
   "source": []
  }
 ],
 "metadata": {
  "kernelspec": {
   "display_name": "Python 3 (ipykernel)",
   "language": "python",
   "name": "python3"
  },
  "language_info": {
   "codemirror_mode": {
    "name": "ipython",
    "version": 3
   },
   "file_extension": ".py",
   "mimetype": "text/x-python",
   "name": "python",
   "nbconvert_exporter": "python",
   "pygments_lexer": "ipython3",
   "version": "3.12.4"
  }
 },
 "nbformat": 4,
 "nbformat_minor": 5
}
