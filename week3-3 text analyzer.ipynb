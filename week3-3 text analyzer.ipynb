{
 "cells": [
  {
   "cell_type": "code",
   "execution_count": 1,
   "id": "1f17940b-cc68-48b5-8d97-84d1e6c69910",
   "metadata": {},
   "outputs": [],
   "source": [
    "#Text analyzer"
   ]
  },
  {
   "cell_type": "code",
   "execution_count": 3,
   "id": "9bee021a-1fae-4432-823d-838b694f8158",
   "metadata": {},
   "outputs": [
    {
     "name": "stdin",
     "output_type": "stream",
     "text": [
      "Enter a paragraph of text:  It is a text analyzer assignment.i will submit this assignment before the due date\n"
     ]
    },
    {
     "name": "stdout",
     "output_type": "stream",
     "text": [
      "\n",
      "--- Text Analysis ---\n",
      "Total words: 14\n",
      "Total characters (including spaces): 82\n",
      "Unique words: 14\n",
      "\n",
      "Word Frequencies:\n",
      "it: 1 times\n",
      "is: 1 times\n",
      "a: 1 times\n",
      "text: 1 times\n",
      "analyzer: 1 times\n",
      "assignment.i: 1 times\n",
      "will: 1 times\n",
      "submit: 1 times\n",
      "this: 1 times\n",
      "assignment: 1 times\n",
      "before: 1 times\n",
      "the: 1 times\n",
      "due: 1 times\n",
      "date: 1 times\n"
     ]
    }
   ],
   "source": [
    "# Defining a Function to analyze the text\n",
    "def analyze_text(text):\n",
    "    try:\n",
    "        \n",
    "        # Split the text\n",
    "        words = text.split()\n",
    "        \n",
    "        # Calculate the total number of characters\n",
    "        total_characters = len(text)\n",
    "        \n",
    "        # Create a set to avoid duplicates\n",
    "        unique_words = set(words)\n",
    "        \n",
    "        # create an empty dictionary to store word_frequencies\n",
    "        word_frequencies = {}\n",
    "\n",
    "        # Loop \n",
    "        for word in words:\n",
    "            word = word.lower() \n",
    "            if word in word_frequencies:\n",
    "                word_frequencies[word] += 1  \n",
    "            else:\n",
    "                word_frequencies[word] = 1  \n",
    "\n",
    "        # Display the results \n",
    "        print(\"\\n--- Text Analysis ---\")\n",
    "\n",
    "        # Print the total number of words\n",
    "        print(f\"Total words: {len(words)}\")  \n",
    "\n",
    "        # Print the character count\n",
    "        print(f\"Total characters (including spaces): {total_characters}\")  \n",
    "\n",
    "        # Print the count of unique words\n",
    "        print(f\"Unique words: {len(unique_words)}\")  \n",
    "\n",
    "        # Print the frequency of words\n",
    "        print(\"\\nWord Frequencies:\")\n",
    "        for word, count in word_frequencies.items():\n",
    "            print(f\"{word}: {count} times\")  \n",
    "    \n",
    "    except Exception as e:\n",
    "        \n",
    "        print(f\"An error occurred: {e}\")\n",
    "\n",
    "# Defining a Function to enter text\n",
    "def get_text():\n",
    "    try:\n",
    "        # Get input from the user\n",
    "        text = input(\"Enter a paragraph of text: \")\n",
    "        \n",
    "        \n",
    "        if not text.strip():\n",
    "            raise ValueError(\"Error: Text cannot be empty.\")  \n",
    "            # Return the valid input text\n",
    "        return text  \n",
    "    except ValueError as e:\n",
    "\n",
    "        print(e)\n",
    "        # Return None if the input was invalid\n",
    "\n",
    "        return None  \n",
    "# Defining a function to run text analyzer\n",
    "def run_text_analyzer():\n",
    "    while True:\n",
    "        text = get_text()  \n",
    "        if text:  \n",
    "            analyze_text(text)  \n",
    "            # Exit the loop \n",
    "            break  \n",
    "\n",
    "# call the run_text_analyzer() function\n",
    "\n",
    "run_text_analyzer()\n"
   ]
  },
  {
   "cell_type": "code",
   "execution_count": null,
   "id": "8fc01e18-282b-4c26-86c6-ab8a98f60fdf",
   "metadata": {},
   "outputs": [],
   "source": []
  }
 ],
 "metadata": {
  "kernelspec": {
   "display_name": "Python 3 (ipykernel)",
   "language": "python",
   "name": "python3"
  },
  "language_info": {
   "codemirror_mode": {
    "name": "ipython",
    "version": 3
   },
   "file_extension": ".py",
   "mimetype": "text/x-python",
   "name": "python",
   "nbconvert_exporter": "python",
   "pygments_lexer": "ipython3",
   "version": "3.12.4"
  }
 },
 "nbformat": 4,
 "nbformat_minor": 5
}
