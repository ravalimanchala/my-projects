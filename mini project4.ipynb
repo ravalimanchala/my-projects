{
 "cells": [
  {
   "cell_type": "code",
   "execution_count": null,
   "id": "62524e25-2996-4b3d-869e-82021f02d074",
   "metadata": {},
   "outputs": [],
   "source": [
    "#calculator"
   ]
  },
  {
   "cell_type": "code",
   "execution_count": 25,
   "id": "1e6e769f-10d2-4788-9ad7-6005f6647ce4",
   "metadata": {},
   "outputs": [
    {
     "name": "stdin",
     "output_type": "stream",
     "text": [
      "Enter a value:  12\n",
      "Enter b value:  45\n",
      "Enter an operation *\n"
     ]
    },
    {
     "name": "stdout",
     "output_type": "stream",
     "text": [
      "a*b is:540\n"
     ]
    }
   ],
   "source": [
    "a = int(input(\"Enter a value: \"))\n",
    "b = int(input(\"Enter b value: \"))\n",
    "operation = input(\"Enter an operation\")\n",
    "\n",
    "#addition\n",
    "if operation == '+':\n",
    "    result = a + b\n",
    "    print(f\" a + b is:{result}\")\n",
    "\n",
    "#subtraction\n",
    "elif operation == '-':\n",
    "    result = a - b\n",
    "    print(f\"a - b is:{result}\")\n",
    "    \n",
    "#multiplication\n",
    "elif operation == '*':\n",
    "    result = a * b\n",
    "    print(f\"a*b is:{result}\")\n",
    "    \n",
    "#division    \n",
    "elif operation == '/':\n",
    "    if b != 0:\n",
    "        result = a / b\n",
    "        print(f\" a / b is: {result}\")\n",
    "    else:\n",
    "        print(\"Divide by zero is not allowed.\")\n",
    "\n",
    "else:\n",
    "    print(\"Invalid operatioPlease select +, -, *, or /.\")\n",
    "    "
   ]
  },
  {
   "cell_type": "code",
   "execution_count": null,
   "id": "d30d3363-b0eb-44b7-bda3-6887eb857ee2",
   "metadata": {},
   "outputs": [],
   "source": []
  }
 ],
 "metadata": {
  "kernelspec": {
   "display_name": "Python 3 (ipykernel)",
   "language": "python",
   "name": "python3"
  },
  "language_info": {
   "codemirror_mode": {
    "name": "ipython",
    "version": 3
   },
   "file_extension": ".py",
   "mimetype": "text/x-python",
   "name": "python",
   "nbconvert_exporter": "python",
   "pygments_lexer": "ipython3",
   "version": "3.12.4"
  }
 },
 "nbformat": 4,
 "nbformat_minor": 5
}
