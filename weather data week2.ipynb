{
 "cells": [
  {
   "cell_type": "code",
   "execution_count": 9,
   "id": "f28aca57-8273-4c51-b572-52d749210005",
   "metadata": {},
   "outputs": [],
   "source": [
    "#basic weather data lookup"
   ]
  },
  {
   "cell_type": "code",
   "execution_count": 17,
   "id": "e753e150-b9fc-4673-9f7d-c00598f201d7",
   "metadata": {},
   "outputs": [
    {
     "name": "stdin",
     "output_type": "stream",
     "text": [
      "enter city name kodimial\n"
     ]
    },
    {
     "name": "stdout",
     "output_type": "stream",
     "text": [
      "Temperature:13ºC,humidity:67%,condition:sunny\n"
     ]
    },
    {
     "name": "stdin",
     "output_type": "stream",
     "text": [
      "enter 1 to try again/ enter 2 to exit 2\n"
     ]
    }
   ],
   "source": [
    "weather_data={'nirmal':{'temperature':47, 'humidity':12,'condition':'rainy'},'jagtial':{'temperature':10, 'humidity':34,'condition':'cloudy'},'kodimial':{'temperature':13, 'humidity':67,'condition':'sunny'}}\n",
    "\n",
    "def basic_weather_lookup():\n",
    "    \n",
    "    while True:\n",
    "        \n",
    "#city name taken from the user\n",
    "        \n",
    "        city_name=input(\"enter city name\")\n",
    "        if city_name in weather_data:\n",
    "\n",
    "#by using lambda\n",
    "            weather_format=lambda data:f\"Temperature:{data['temperature']}ºC,humidity:{data['humidity']}%,condition:{data['condition']}\"\n",
    "            weather_result=weather_data[city_name]\n",
    "            \n",
    "#printing the weather result            \n",
    "            print(weather_format(weather_result))\n",
    "\n",
    " #if city name is wrong entered it shows invalid city       \n",
    "        else:\n",
    "            print(\"invalid city, please enter valid city name\")\n",
    "        try_again=input(\"enter 1 to try again/ enter 2 to exit\").strip().upper()\n",
    "        if try_again!=1:\n",
    "            break\n",
    "basic_weather_lookup()"
   ]
  },
  {
   "cell_type": "code",
   "execution_count": null,
   "id": "48d68a47-4afb-48e2-8eb2-d06650e2376e",
   "metadata": {},
   "outputs": [],
   "source": []
  }
 ],
 "metadata": {
  "kernelspec": {
   "display_name": "Python 3 (ipykernel)",
   "language": "python",
   "name": "python3"
  },
  "language_info": {
   "codemirror_mode": {
    "name": "ipython",
    "version": 3
   },
   "file_extension": ".py",
   "mimetype": "text/x-python",
   "name": "python",
   "nbconvert_exporter": "python",
   "pygments_lexer": "ipython3",
   "version": "3.12.4"
  }
 },
 "nbformat": 4,
 "nbformat_minor": 5
}
