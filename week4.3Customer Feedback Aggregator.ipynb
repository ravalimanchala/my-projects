{
 "cells": [
  {
   "cell_type": "code",
   "execution_count": 1,
   "id": "22642709-8b9f-49c9-b7ff-ac67734582a1",
   "metadata": {},
   "outputs": [
    {
     "name": "stdout",
     "output_type": "stream",
     "text": [
      "Collecting textblob\n",
      "  Downloading textblob-0.18.0.post0-py3-none-any.whl.metadata (4.5 kB)\n",
      "Requirement already satisfied: nltk>=3.8 in c:\\users\\91801\\anaconda3\\lib\\site-packages (from textblob) (3.8.1)\n",
      "Requirement already satisfied: click in c:\\users\\91801\\appdata\\roaming\\python\\python312\\site-packages (from nltk>=3.8->textblob) (8.1.7)\n",
      "Requirement already satisfied: joblib in c:\\users\\91801\\anaconda3\\lib\\site-packages (from nltk>=3.8->textblob) (1.4.2)\n",
      "Requirement already satisfied: regex>=2021.8.3 in c:\\users\\91801\\anaconda3\\lib\\site-packages (from nltk>=3.8->textblob) (2023.10.3)\n",
      "Requirement already satisfied: tqdm in c:\\users\\91801\\anaconda3\\lib\\site-packages (from nltk>=3.8->textblob) (4.66.4)\n",
      "Requirement already satisfied: colorama in c:\\users\\91801\\appdata\\roaming\\python\\python312\\site-packages (from click->nltk>=3.8->textblob) (0.4.6)\n",
      "Downloading textblob-0.18.0.post0-py3-none-any.whl (626 kB)\n",
      "   ---------------------------------------- 0.0/626.3 kB ? eta -:--:--\n",
      "   ---------------- ----------------------- 262.1/626.3 kB ? eta -:--:--\n",
      "   ---------------------------------------- 626.3/626.3 kB 2.9 MB/s eta 0:00:00\n",
      "Installing collected packages: textblob\n",
      "Successfully installed textblob-0.18.0.post0\n",
      "Note: you may need to restart the kernel to use updated packages.\n"
     ]
    }
   ],
   "source": [
    "pip install textblob\n"
   ]
  },
  {
   "cell_type": "code",
   "execution_count": 1,
   "id": "32847b44-1ca6-46a0-a549-89ccbfd6c81a",
   "metadata": {},
   "outputs": [
    {
     "ename": "ModuleNotFoundError",
     "evalue": "No module named 'textblob'",
     "output_type": "error",
     "traceback": [
      "\u001b[1;31m---------------------------------------------------------------------------\u001b[0m",
      "\u001b[1;31mModuleNotFoundError\u001b[0m                       Traceback (most recent call last)",
      "Cell \u001b[1;32mIn[1], line 2\u001b[0m\n\u001b[0;32m      1\u001b[0m \u001b[38;5;28;01mimport\u001b[39;00m \u001b[38;5;21;01mos\u001b[39;00m\n\u001b[1;32m----> 2\u001b[0m \u001b[38;5;28;01mfrom\u001b[39;00m \u001b[38;5;21;01mtextblob\u001b[39;00m \u001b[38;5;28;01mimport\u001b[39;00m TextBlob\n\u001b[0;32m      3\u001b[0m \u001b[38;5;28;01mimport\u001b[39;00m \u001b[38;5;21;01mcsv\u001b[39;00m\n\u001b[0;32m      5\u001b[0m \u001b[38;5;66;03m# Function to read customer feedback from a file\u001b[39;00m\n",
      "\u001b[1;31mModuleNotFoundError\u001b[0m: No module named 'textblob'"
     ]
    }
   ],
   "source": [
    "import os\n",
    "from textblob import TextBlob\n",
    "import csv\n",
    "\n",
    "# Function to read customer feedback from a file\n",
    "def read_feedback(file_path):\n",
    "    feedbacks = []\n",
    "    if not os.path.exists(file_path):\n",
    "        print(f\"No feedback file found at {file_path}.\")\n",
    "        return feedbacks\n",
    "    \n",
    "    with open(file_path, 'r', encoding='utf-8') as file:\n",
    "        reader = csv.reader(file)\n",
    "        for row in reader:\n",
    "            if row:  # Skip empty rows\n",
    "                feedbacks.append(row[0])  # Assuming feedback is in the first column\n",
    "    return feedbacks\n",
    "\n",
    "# Function to analyze sentiment of feedback\n",
    "def analyze_sentiment(feedbacks):\n",
    "    positive, negative, neutral = 0, 0, 0\n",
    "    for feedback in feedbacks:\n",
    "        analysis = TextBlob(feedback)\n",
    "        # Classify sentiment based on polarity\n",
    "        if analysis.sentiment.polarity > 0:\n",
    "            positive += 1\n",
    "        elif analysis.sentiment.polarity < 0:\n",
    "            negative += 1\n",
    "        else:\n",
    "            neutral += 1\n",
    "    return positive, negative, neutral\n",
    "\n",
    "# Function to generate summary report\n",
    "def generate_report(positive, negative, neutral, total):\n",
    "    print(\"\\n--- Customer Feedback Summary Report ---\")\n",
    "    print(f\"Total Feedbacks: {total}\")\n",
    "    print(f\"Positive Feedbacks: {positive} ({(positive / total) * 100:.2f}%)\")\n",
    "    print(f\"Negative Feedbacks: {negative} ({(negative / total) * 100:.2f}%)\")\n",
    "    print(f\"Neutral Feedbacks: {neutral} ({(neutral / total) * 100:.2f}%)\")\n",
    "    print(\"------------------------------------------\")\n",
    "\n",
    "# Main function\n",
    "def feedback_aggregator():\n",
    "    file_path = \"customer_feedback.csv\"  # Path to your feedback file\n",
    "    feedbacks = read_feedback(file_path)\n",
    "    \n",
    "    if not feedbacks:\n",
    "        return\n",
    "    \n",
    "    positive, negative, neutral = analyze_sentiment(feedbacks)\n",
    "    total = len(feedbacks)\n",
    "    generate_report(positive, negative, neutral, total)\n",
    "\n",
    "# Run the feedback aggregator\n",
    "feedback_aggregator()\n"
   ]
  },
  {
   "cell_type": "code",
   "execution_count": null,
   "id": "b0775d5d-ed57-4ab4-9200-51769438dbaf",
   "metadata": {},
   "outputs": [],
   "source": []
  }
 ],
 "metadata": {
  "kernelspec": {
   "display_name": "Python 3 (ipykernel)",
   "language": "python",
   "name": "python3"
  },
  "language_info": {
   "codemirror_mode": {
    "name": "ipython",
    "version": 3
   },
   "file_extension": ".py",
   "mimetype": "text/x-python",
   "name": "python",
   "nbconvert_exporter": "python",
   "pygments_lexer": "ipython3",
   "version": "3.12.4"
  }
 },
 "nbformat": 4,
 "nbformat_minor": 5
}
