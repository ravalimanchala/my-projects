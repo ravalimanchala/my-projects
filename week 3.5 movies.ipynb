{
 "cells": [
  {
   "cell_type": "code",
   "execution_count": 5,
   "id": "9f998f6b-e195-471f-a24f-c817a83859fb",
   "metadata": {},
   "outputs": [
    {
     "name": "stdin",
     "output_type": "stream",
     "text": [
      "Enter user name:  ravali\n"
     ]
    },
    {
     "name": "stdout",
     "output_type": "stream",
     "text": [
      "Ravali's recommended movies are: 12th fail, Inkokadu\n"
     ]
    },
    {
     "name": "stdin",
     "output_type": "stream",
     "text": [
      "To continue for movie recommendations, enter YES. To exit, enter NO:  yes\n",
      "Enter user name:  ramya\n"
     ]
    },
    {
     "name": "stdout",
     "output_type": "stream",
     "text": [
      "Ramya's recommended movies are: Yashodha, bichagadu, m.s Dhoni\n"
     ]
    },
    {
     "name": "stdin",
     "output_type": "stream",
     "text": [
      "To continue for movie recommendations, enter YES. To exit, enter NO:  no\n"
     ]
    }
   ],
   "source": [
    "# giving movie names and their genre\n",
    "movies = [\n",
    "    {\"Movie Name\": \"12th fail\", \"genre\": \"Inspiration\"},\n",
    "    {\"Movie Name\": \"Yashodha\", \"genre\": \"Drama\"},\n",
    "    {\"Movie Name\": \"Inkokadu\", \"genre\": \"suspense\"},\n",
    "    {\"Movie Name\": \"Rakshasudu\", \"genre\": \"horror\"},\n",
    "    {\"Movie Name\": \"Jathirathnalu\", \"genre\": \"comedy\"},\n",
    "    {\"Movie Name\": \"Charu latha\", \"genre\": \"horror\"},\n",
    "    {\"Movie Name\": \"Raja rani\", \"genre\": \"romance\"},\n",
    "    {\"Movie Name\": \"Vikranth Rona\", \"genre\": \"action\"},\n",
    "    {\"Movie Name\": \"bichagadu\", \"genre\": \"Drama\"},\n",
    "    {\"Movie Name\": \"m.s Dhoni\", \"genre\": \"biopic\"}\n",
    "]\n",
    "\n",
    "# each user is associated with genres\n",
    "user_preference = {\n",
    "    \"Ravali\": {\"Inspiration\", \"suspense\"},\n",
    "    \"shruthi\": {\"romance\", \"Inspiration\"},\n",
    "    \"Ramya\": {\"Drama\", \"biopic\"},\n",
    "    \"teju\": {\"Inspiration\", \"suspense\"},\n",
    "    \"soumya\": {\"action\", \"drama\"}\n",
    "}\n",
    "\n",
    "\n",
    "def Movie_recommend_project():\n",
    "    try:\n",
    "\n",
    "#input from the user\n",
    "        user_input = input(\"Enter user name: \").strip().title()\n",
    "\n",
    "# Checking the user's name exists in the preferences dictionary or not\n",
    "        if user_input not in user_preference:\n",
    "            print(f\"User {user_input} is not in the preference list.\")\n",
    "            return\n",
    "        \n",
    "       \n",
    "        preferred_genre = {genre.lower() for genre in user_preference[user_input]}\n",
    "\n",
    "# empty List to store movie names and their genre\n",
    "        recommendations_movies = []\n",
    "\n",
    " # Iterate the movies their genres\n",
    "        for movie in movies:\n",
    "            \n",
    "            if movie[\"genre\"].lower() in preferred_genre:\n",
    "                \n",
    "                recommendations_movies.append(movie[\"Movie Name\"])\n",
    "\n",
    "       \n",
    "        if recommendations_movies:\n",
    "            print(f\"{user_input}'s recommended movies are: {', '.join(recommendations_movies)}\")\n",
    "        else:\n",
    "            print(f\"No preferred movies found for {user_input}.\")\n",
    "    \n",
    "# Handling the exceptions\n",
    "    except Exception as e:\n",
    "        print(f\"An error occurred: {e}\")\n",
    "\n",
    "# using loop to keep asking for movienames\n",
    "while True:\n",
    "    \n",
    "# Calling the movie recommendation function\n",
    "    Movie_recommend_project()\n",
    "\n",
    "    # Ask the user if they want to continue or exit the recommendation system\n",
    "    continue_input = input(\"To continue for movie recommendations, enter YES. To exit, enter NO: \").strip().upper()\n",
    "    \n",
    "    # Exit the loop if the user doesn't enter 'YES'\n",
    "    if continue_input != 'YES':\n",
    "        break\n"
   ]
  },
  {
   "cell_type": "code",
   "execution_count": null,
   "id": "8ca10c49-c03c-4171-9d94-f14aa3dff3af",
   "metadata": {},
   "outputs": [],
   "source": []
  }
 ],
 "metadata": {
  "kernelspec": {
   "display_name": "Python 3 (ipykernel)",
   "language": "python",
   "name": "python3"
  },
  "language_info": {
   "codemirror_mode": {
    "name": "ipython",
    "version": 3
   },
   "file_extension": ".py",
   "mimetype": "text/x-python",
   "name": "python",
   "nbconvert_exporter": "python",
   "pygments_lexer": "ipython3",
   "version": "3.12.4"
  }
 },
 "nbformat": 4,
 "nbformat_minor": 5
}
