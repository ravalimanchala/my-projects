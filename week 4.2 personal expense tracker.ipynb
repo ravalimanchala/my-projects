{
 "cells": [
  {
   "cell_type": "code",
   "execution_count": 1,
   "id": "5a0df4e6-daa0-44bf-9fb3-720eda46e97c",
   "metadata": {},
   "outputs": [],
   "source": [
    "#personal expense tracker"
   ]
  },
  {
   "cell_type": "code",
   "execution_count": 2,
   "id": "b4a5526f-5aa5-452c-925f-e57a6f3e4bd8",
   "metadata": {},
   "outputs": [
    {
     "name": "stdout",
     "output_type": "stream",
     "text": [
      "press 1 = Add Income \n",
      "press 2 = Add Expense\n",
      "press 3 = Calculate Monthly Savings\n",
      "press 4 = Exit\n"
     ]
    },
    {
     "name": "stdin",
     "output_type": "stream",
     "text": [
      "Enter 1-4 number:  1\n",
      "Enter income amount:  10000\n"
     ]
    },
    {
     "name": "stdout",
     "output_type": "stream",
     "text": [
      "Income added successfully.\n",
      "press 1 = Add Income \n",
      "press 2 = Add Expense\n",
      "press 3 = Calculate Monthly Savings\n",
      "press 4 = Exit\n"
     ]
    },
    {
     "name": "stdin",
     "output_type": "stream",
     "text": [
      "Enter 1-4 number:  2\n",
      "Enter expense amount:  1000\n"
     ]
    },
    {
     "name": "stdout",
     "output_type": "stream",
     "text": [
      "Expense added successfully.\n",
      "press 1 = Add Income \n",
      "press 2 = Add Expense\n",
      "press 3 = Calculate Monthly Savings\n",
      "press 4 = Exit\n"
     ]
    },
    {
     "name": "stdin",
     "output_type": "stream",
     "text": [
      "Enter 1-4 number:  3\n"
     ]
    },
    {
     "name": "stdout",
     "output_type": "stream",
     "text": [
      "Your monthly savings: $9000.00\n",
      "press 1 = Add Income \n",
      "press 2 = Add Expense\n",
      "press 3 = Calculate Monthly Savings\n",
      "press 4 = Exit\n"
     ]
    },
    {
     "name": "stdin",
     "output_type": "stream",
     "text": [
      "Enter 1-4 number:  4\n"
     ]
    },
    {
     "name": "stdout",
     "output_type": "stream",
     "text": [
      "Exit\n"
     ]
    }
   ],
   "source": [
    "import csv\n",
    "import os\n",
    "\n",
    "def add_income(income):\n",
    "    with open(\"Personal_budget_tracker.csv\", \"a\", newline='') as fh:\n",
    "        csv_writer = csv.writer(fh)   # Creates a CSV writer object\n",
    "        csv_writer.writerow(['Income', income])   # Writes a row with the label 'Income' and the income amount\n",
    "\n",
    "def add_expense(expense):\n",
    "    with open(\"Personal_budget_tracker.csv\", \"a\", newline='') as fh:\n",
    "        csv_writer = csv.writer(fh)\n",
    "        csv_writer.writerow(['Expense', expense])\n",
    "\n",
    "def calculate_savings():\n",
    "    total_income = 0  # Initialize total income\n",
    "    total_expense = 0  # Initialize total expense\n",
    "\n",
    "    # Checks if the CSV file exists. If not, print a message and return None\n",
    "    if not os.path.exists('Personal_budget_tracker.csv'):\n",
    "        print(\"No records found\")  # Inform the user that no records exist\n",
    "        return\n",
    "\n",
    "    # Opens the CSV file in read mode\n",
    "    with open(\"Personal_budget_tracker.csv\", \"r\", newline='') as fh:\n",
    "        reader = csv.reader(fh)  # Creates a CSV reader object\n",
    "        # Iterate over each row in the CSV file\n",
    "        for row in reader:\n",
    "            if row[0] == 'Income':  # Check if the row is an 'Income' entry\n",
    "                total_income += float(row[1])  # Add the income amount to total income\n",
    "            elif row[0] == 'Expense':  # Check if the row is an 'Expense' entry\n",
    "                total_expense += float(row[1])  # Add the expense amount to total expense\n",
    "    \n",
    "    # Calculate the savings by subtracting total expenses from total income\n",
    "    savings = total_income - total_expense\n",
    "    return savings  # Return the calculated savings\n",
    "\n",
    "\n",
    "def main():\n",
    "    while True:\n",
    "        print(\"press 1 = Add Income \")\n",
    "        print(\"press 2 = Add Expense\")\n",
    "        print(\"press 3 = Calculate Monthly Savings\")\n",
    "        print(\"press 4 = Exit\")\n",
    "        temp = int(input(\"Enter 1-4 number: \"))\n",
    "# Take user input\n",
    "        if temp == 1:\n",
    "            income = float(input(\"Enter income amount: \"))\n",
    "            add_income(income)     # Call the function to add the income to the CSV\n",
    "            print(\"Income added successfully.\")\n",
    "\n",
    "        elif temp == 2:\n",
    "            expense = float(input(\"Enter expense amount: \"))\n",
    "            add_expense(expense)     # Call the function to add the expense to the CSV\n",
    "            print(\"Expense added successfully.\")\n",
    "\n",
    "        elif temp == 3:\n",
    "            savings = calculate_savings()\n",
    "            if savings is not None:     # Check if savings were calculated successfully\n",
    "                print(f\"Your monthly savings: ${savings:.2f}\")   # Print the savings with two decimal places\n",
    "\n",
    "\n",
    "        elif temp == 4:\n",
    "            print(\"Exit\")    # Print an exit message\n",
    "            break    # Break out of the loop to exit the program\n",
    "\n",
    "        else:        # User input is invalid\n",
    "            print(\"Invalid. Please select a number between 1-4.\")   # Error message for invalid input\n",
    "if __name__ == \"__main__\":\n",
    "    main()    #call the main function\n",
    "\n"
   ]
  },
  {
   "cell_type": "code",
   "execution_count": null,
   "id": "75ea985c-fb19-41e6-8f36-e43ed970b3bf",
   "metadata": {},
   "outputs": [],
   "source": []
  }
 ],
 "metadata": {
  "kernelspec": {
   "display_name": "Python 3 (ipykernel)",
   "language": "python",
   "name": "python3"
  },
  "language_info": {
   "codemirror_mode": {
    "name": "ipython",
    "version": 3
   },
   "file_extension": ".py",
   "mimetype": "text/x-python",
   "name": "python",
   "nbconvert_exporter": "python",
   "pygments_lexer": "ipython3",
   "version": "3.12.4"
  }
 },
 "nbformat": 4,
 "nbformat_minor": 5
}
