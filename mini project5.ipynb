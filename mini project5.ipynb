{
 "cells": [
  {
   "cell_type": "code",
   "execution_count": 1,
   "id": "77b8a2de-820f-468b-8514-c907003b5f7e",
   "metadata": {},
   "outputs": [],
   "source": [
    "#grade calculator"
   ]
  },
  {
   "cell_type": "code",
   "execution_count": null,
   "id": "70e0d6ea-fb3e-4023-9b02-9a02fcbf58aa",
   "metadata": {},
   "outputs": [],
   "source": [
    "subjects = ['Maths', 'Science', 'English']\n",
    "scores = []\n",
    "# iterating subjects inputs in empty list \n",
    "for subject in subjects:\n",
    "    while True:\n",
    "        #using try and catch method to handle exceptions\n",
    "        try:\n",
    "        \n",
    "            score = float(input(\"Enter score for  (0-100): \"))\n",
    "           \n",
    "            if 0 <= score <= 100:\n",
    "                \n",
    "                scores.append(score)\n",
    "                break \n",
    "            else:\n",
    "                print(\"Please enter a value between 0 and 100.\")\n",
    "        except Exception as e:\n",
    "            print(\"Invalid input, please enter a numeric value.\")\n",
    "\n",
    "total = sum(scores)  \n",
    "average = total / len(subjects) \n",
    "#oing average and \n",
    "# then comparing the average score according to the grade and feedback and then printing final output\n",
    "if 90 <= average <= 100:\n",
    "    grade = 'A'\n",
    "    feedback = \"Excellent\"\n",
    "elif 80 <= average < 90:\n",
    "    grade = 'B'\n",
    "    feedback = \"Good\"\n",
    "elif 70 <= average < 80:\n",
    "    grade = 'C'\n",
    "    feedback = \"Better\"\n",
    "elif 60 <= average < 70:\n",
    "    grade = 'D'\n",
    "    feedback = \"Not Bad\"\n",
    "else:\n",
    "    grade = 'F'\n",
    "    feedback = \"Try Harder\"\n",
    "\n",
    "print(f\"\\nAverage Score:\",average)\n",
    "print(\"Grade\",grade)\n",
    "print(\"Feedback:\",feedback)\n"
   ]
  },
  {
   "cell_type": "code",
   "execution_count": null,
   "id": "7c4a5a66-5123-4042-b711-0383e3440835",
   "metadata": {},
   "outputs": [],
   "source": []
  }
 ],
 "metadata": {
  "kernelspec": {
   "display_name": "Python 3 (ipykernel)",
   "language": "python",
   "name": "python3"
  },
  "language_info": {
   "codemirror_mode": {
    "name": "ipython",
    "version": 3
   },
   "file_extension": ".py",
   "mimetype": "text/x-python",
   "name": "python",
   "nbconvert_exporter": "python",
   "pygments_lexer": "ipython3",
   "version": "3.12.4"
  }
 },
 "nbformat": 4,
 "nbformat_minor": 5
}
