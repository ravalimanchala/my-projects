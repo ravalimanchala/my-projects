{
 "cells": [
  {
   "cell_type": "code",
   "execution_count": null,
   "id": "3a2e7c6b-780d-4b2c-b681-b95e1e93f88f",
   "metadata": {},
   "outputs": [],
   "source": [
    "#2.number guessing game"
   ]
  },
  {
   "cell_type": "code",
   "execution_count": 23,
   "id": "27355115-d3f5-4a3b-a205-11488a37e55d",
   "metadata": {},
   "outputs": [
    {
     "name": "stdin",
     "output_type": "stream",
     "text": [
      "enter a number between 1 to 100 23\n"
     ]
    },
    {
     "name": "stdout",
     "output_type": "stream",
     "text": [
      "increase the guess value\n"
     ]
    },
    {
     "name": "stdin",
     "output_type": "stream",
     "text": [
      "enter a number between 1 to 100 45\n"
     ]
    },
    {
     "name": "stdout",
     "output_type": "stream",
     "text": [
      "decrease the guess value\n"
     ]
    },
    {
     "name": "stdin",
     "output_type": "stream",
     "text": [
      "enter a number between 1 to 100 34\n"
     ]
    },
    {
     "name": "stdout",
     "output_type": "stream",
     "text": [
      "correct guess\n"
     ]
    }
   ],
   "source": [
    "number=34\n",
    "attempts=10\n",
    "while attempts>=0 :\n",
    "    guessANumber=int(input(\"enter a number between 1 to 100\"))\n",
    "    if guessANumber==number:\n",
    "        print(\"correct guess\")\n",
    "        break\n",
    "    elif guessANumber>number:\n",
    "        print(\"decrease the guess value\")\n",
    "    else:\n",
    "        print(\"increase the guess value\")\n",
    "    attempts=attempts+1\n",
    "    if attempts==10:\n",
    "        print(\"attempts over\")"
   ]
  },
  {
   "cell_type": "code",
   "execution_count": null,
   "id": "790b3c45-6424-4f8b-b870-eff78900a531",
   "metadata": {},
   "outputs": [],
   "source": []
  }
 ],
 "metadata": {
  "kernelspec": {
   "display_name": "Python 3 (ipykernel)",
   "language": "python",
   "name": "python3"
  },
  "language_info": {
   "codemirror_mode": {
    "name": "ipython",
    "version": 3
   },
   "file_extension": ".py",
   "mimetype": "text/x-python",
   "name": "python",
   "nbconvert_exporter": "python",
   "pygments_lexer": "ipython3",
   "version": "3.12.4"
  }
 },
 "nbformat": 4,
 "nbformat_minor": 5
}
