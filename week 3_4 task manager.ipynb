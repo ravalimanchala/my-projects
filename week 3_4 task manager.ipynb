{
 "cells": [
  {
   "cell_type": "code",
   "execution_count": null,
   "id": "0504a783-d117-484f-93d3-e4d3faa2c0a5",
   "metadata": {},
   "outputs": [],
   "source": [
    "#task manager"
   ]
  },
  {
   "cell_type": "code",
   "execution_count": 1,
   "id": "a5f52977-257e-4cf4-b6d6-5cdb26d46310",
   "metadata": {},
   "outputs": [
    {
     "name": "stdout",
     "output_type": "stream",
     "text": [
      "\n",
      "Options:\n",
      "1. Add Task\n",
      "2. Complete Task\n",
      "3. Remove Task\n",
      "4. Display Tasks\n",
      "5. Exit\n"
     ]
    },
    {
     "name": "stdin",
     "output_type": "stream",
     "text": [
      "Enter your choice (1-5):  1\n",
      "Enter task name:  submitting the programme\n",
      "Enter due date (YYYY-MM-DD):  2024-09-30\n"
     ]
    },
    {
     "name": "stdout",
     "output_type": "stream",
     "text": [
      "Task 'submitting the programme' added successfully.\n",
      "\n",
      "Options:\n",
      "1. Add Task\n",
      "2. Complete Task\n",
      "3. Remove Task\n",
      "4. Display Tasks\n",
      "5. Exit\n"
     ]
    },
    {
     "name": "stdin",
     "output_type": "stream",
     "text": [
      "Enter your choice (1-5):  2\n"
     ]
    },
    {
     "name": "stdout",
     "output_type": "stream",
     "text": [
      "\n",
      "Task List:\n",
      "1. Task: submitting the programme, Due: 2024-09-30, Status: Incomplete\n",
      "\n"
     ]
    },
    {
     "name": "stdin",
     "output_type": "stream",
     "text": [
      "Enter task index to mark as complete:  submit before the due date\n"
     ]
    },
    {
     "name": "stdout",
     "output_type": "stream",
     "text": [
      "Error: Please enter a valid number.\n",
      "\n",
      "Options:\n",
      "1. Add Task\n",
      "2. Complete Task\n",
      "3. Remove Task\n",
      "4. Display Tasks\n",
      "5. Exit\n"
     ]
    },
    {
     "name": "stdin",
     "output_type": "stream",
     "text": [
      "Enter your choice (1-5):  5\n"
     ]
    },
    {
     "name": "stdout",
     "output_type": "stream",
     "text": [
      "Exiting the task manager. Goodbye!\n"
     ]
    }
   ],
   "source": [
    "import datetime \n",
    "\n",
    "# creating an empty list to store tasks\n",
    "tasks = []\n",
    "\n",
    "# defining a Function to add a task and due date\n",
    "def add_task(task_name, due_date):\n",
    "    try:\n",
    "# Validate the due date format (YYYY-MM-DD)\n",
    "        datetime.datetime.strptime(due_date, '%Y-%m-%d')\n",
    "        \n",
    "# Create a task task_name, due_date, completion status)\n",
    "        task = (task_name, due_date, False)\n",
    "        \n",
    "# Add task to the list        \n",
    "        tasks.append(task)  \n",
    "        print(f\"Task '{task_name}' added successfully.\")\n",
    "    except ValueError:\n",
    "\n",
    "        print(\"Error: Invalid date format. Please use YYYY-MM-DD.\")\n",
    "\n",
    "# defining a Function to mark a task as completed\n",
    "def complete_task(task_index):\n",
    "    try:\n",
    "        task_index -= 1  \n",
    "        task_name, due_date, _ = tasks[task_index]  \n",
    "        tasks[task_index] = (task_name, due_date, True)  \n",
    "        print(f\"Task '{task_name}' marked as completed.\")\n",
    "    except IndexError:\n",
    "        \n",
    "        print(\"Error: Task index is out of range. Please try again.\")\n",
    "\n",
    "# defining a Function to remove a task \n",
    "def remove_task(task_index):\n",
    "    try:\n",
    "        task_index -= 1  # Convert to 0-based index\n",
    "        removed_task = tasks.pop(task_index)  # Remove task by index\n",
    "        print(f\"Task '{removed_task[0]}' removed successfully.\")  # Print task name\n",
    "    except IndexError:\n",
    "        \n",
    "        print(\"Error: Task index is out of range. Please try again.\")\n",
    "\n",
    "# defining a Function to display the list of tasks\n",
    "def display_tasks():\n",
    "    if not tasks:\n",
    "        print(\"\\nNo tasks available.\")  \n",
    "        return\n",
    "\n",
    "   \n",
    "    print(\"\\nTask List:\")\n",
    "    for i, (task_name, due_date, status) in enumerate(tasks, 1):  \n",
    "        status_str = \"Completed\" if status else \"Incomplete\"  \n",
    "        print(f\"{i}. Task: {task_name}, Due: {due_date}, Status: {status_str}\")\n",
    "    print()  # New line for spacing\n",
    "\n",
    "# defining a function \n",
    "def task_manager():\n",
    "    while True:\n",
    "# Display options for the user\n",
    "        print(\"\\nOptions:\")\n",
    "        print(\"1. Add Task\")\n",
    "        print(\"2. Complete Task\")\n",
    "        print(\"3. Remove Task\")\n",
    "        print(\"4. Display Tasks\")\n",
    "        print(\"5. Exit\")\n",
    "\n",
    "        try:\n",
    "            \n",
    "            choice = int(input(\"Enter your choice (1-5): \"))\n",
    "        except ValueError:\n",
    "            \n",
    "            print(\"Error: Please enter a valid number.\")\n",
    "            continue\n",
    "\n",
    "        if choice == 1:\n",
    "            \n",
    "            # Adding a task \n",
    "            task_name = input(\"Enter task name: \")\n",
    "            due_date = input(\"Enter due date (YYYY-MM-DD): \")\n",
    "            add_task(task_name, due_date)\n",
    "        elif choice == 2:\n",
    "            if tasks:\n",
    "                display_tasks()  \n",
    "                try:\n",
    "                    \n",
    "                    task_index = int(input(\"Enter task index to mark as complete: \"))\n",
    "                    complete_task(task_index)\n",
    "                except ValueError:\n",
    "                   \n",
    "                    print(\"Error: Please enter a valid number.\")\n",
    "            else:\n",
    "                print(\"No tasks to complete.\")  \n",
    "        elif choice == 3:\n",
    "            if tasks:\n",
    "                display_tasks()  \n",
    "                try:\n",
    "                    \n",
    "                    task_index = int(input(\"Enter task index to remove: \"))\n",
    "                    remove_task(task_index)\n",
    "                except ValueError:\n",
    "                    \n",
    "                    print(\"Error: Please enter a valid number.\")\n",
    "            else:\n",
    "                print(\"No tasks to remove.\")  # Notify if there are no tasks\n",
    "        elif choice == 4:\n",
    "            display_tasks()  # Display the current list of tasks\n",
    "        elif choice == 5:\n",
    "            print(\"Exiting the task manager. Goodbye!\")\n",
    "            break  # Exit the loop \n",
    "        else:\n",
    "            \n",
    "            print(\"Error: Invalid choice. Please select between 1 and 5.\")\n",
    "\n",
    "# call the task manager function\n",
    "task_manager()\n"
   ]
  },
  {
   "cell_type": "code",
   "execution_count": null,
   "id": "2209657c-d923-42ec-9ea0-b6c757d9809b",
   "metadata": {},
   "outputs": [],
   "source": []
  }
 ],
 "metadata": {
  "kernelspec": {
   "display_name": "Python 3 (ipykernel)",
   "language": "python",
   "name": "python3"
  },
  "language_info": {
   "codemirror_mode": {
    "name": "ipython",
    "version": 3
   },
   "file_extension": ".py",
   "mimetype": "text/x-python",
   "name": "python",
   "nbconvert_exporter": "python",
   "pygments_lexer": "ipython3",
   "version": "3.12.4"
  }
 },
 "nbformat": 4,
 "nbformat_minor": 5
}
