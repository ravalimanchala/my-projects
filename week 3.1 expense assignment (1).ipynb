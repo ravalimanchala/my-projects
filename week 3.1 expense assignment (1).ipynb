{
 "cells": [
  {
   "cell_type": "code",
   "execution_count": 1,
   "id": "ed75f97d-7dc8-466b-846e-1084a8fe51f5",
   "metadata": {},
   "outputs": [],
   "source": [
    "#Personal Expense Tracker"
   ]
  },
  {
   "cell_type": "code",
   "execution_count": 11,
   "id": "5956665d-9b49-47b5-ba90-eac3f0df3acf",
   "metadata": {},
   "outputs": [
    {
     "name": "stdout",
     "output_type": "stream",
     "text": [
      "\n",
      "--- Personal Expense Tracker ---\n",
      "1. expense\n",
      "2. View Expense Summary\n",
      "3. Exit\n"
     ]
    },
    {
     "name": "stdin",
     "output_type": "stream",
     "text": [
      "Choose an option:  1\n",
      "enter your expense on: food\n",
      "enter amount: 1500\n",
      "Enter the category Frome Below FOOD, TRAVEL, ENTERTAINMENT AND EMI:  food\n"
     ]
    },
    {
     "name": "stdout",
     "output_type": "stream",
     "text": [
      "Expense added successfully!\n",
      "\n",
      "\n",
      "--- Personal Expense Tracker ---\n",
      "1. expense\n",
      "2. View Expense Summary\n",
      "3. Exit\n"
     ]
    },
    {
     "name": "stdin",
     "output_type": "stream",
     "text": [
      "Choose an option:  2\n"
     ]
    },
    {
     "name": "stdout",
     "output_type": "stream",
     "text": [
      "{'FOOD': 1500}\n",
      "\n",
      "Expense Summary by Category:\n",
      "FOOD: $1500.00\n",
      "\n",
      "--- Personal Expense Tracker ---\n",
      "1. expense\n",
      "2. View Expense Summary\n",
      "3. Exit\n"
     ]
    },
    {
     "name": "stdin",
     "output_type": "stream",
     "text": [
      "Choose an option:  3\n"
     ]
    },
    {
     "name": "stdout",
     "output_type": "stream",
     "text": [
      "Exiting the program.\n"
     ]
    }
   ],
   "source": [
    "\n",
    "expenses=[]    #empty list to store information from user\n",
    "categories=set()   #empty set used for unique values\n",
    "\n",
    "def expense():\n",
    "    \n",
    "#inputs from user\n",
    "    \n",
    "    expense_name=input(\"enter your expense on:\").capitalize()\n",
    "    expense_amount=int(input(\"enter amount:\"))\n",
    "    expense_category = input(\"Enter the category Frome Below FOOD, TRAVEL, ENTERTAINMENT AND EMI: \").upper()\n",
    "    \n",
    "    expense_entry = (expense_name,expense_amount,expense_category)\n",
    "    expenses.append(expense_entry)\n",
    "    \n",
    "#adding expense_category to categories\n",
    "    \n",
    "    categories.add(expense_category)\n",
    "    print(\"Expense added successfully!\\n\")\n",
    "\n",
    "# defining the expense_summary() function\n",
    "def expense_summary():\n",
    "   \n",
    "    try:\n",
    "        if len(expenses) == 0:\n",
    "            print(\"No expenses to display.\")\n",
    "            return\n",
    "        summary = {category: sum(expense[1] for expense in expenses if expense[2] == category) for category in categories}\n",
    "        print(summary)\n",
    "        print(\"\\nExpense Summary by Category:\")\n",
    "        for category, total in summary.items():\n",
    "            print(f\"{category}: ${total:.2f}\")\n",
    "    except Exception as e:\n",
    "        print(f\"An error occurred: {e}\")\n",
    "\n",
    "\n",
    "while True:\n",
    "    print(\"\\n--- Personal Expense Tracker ---\")\n",
    "    print(\"1. expense\")\n",
    "    print(\"2. View Expense Summary\")\n",
    "    print(\"3. Exit\")\n",
    "    \n",
    "    choice = input(\"Choose an option: \")  \n",
    "    \n",
    "    if choice == \"1\":\n",
    "        expense()\n",
    "    elif choice == \"2\":\n",
    "        expense_summary()\n",
    "    elif choice == \"3\":\n",
    "        #exiting the loop\n",
    "        print(\"Exiting the program.\")\n",
    "        break\n",
    "    else:\n",
    "        print(\"Invalid! Please try again.\")"
   ]
  },
  {
   "cell_type": "code",
   "execution_count": null,
   "id": "3d48a541-9622-484d-93f2-fc695d9cff48",
   "metadata": {},
   "outputs": [],
   "source": []
  }
 ],
 "metadata": {
  "kernelspec": {
   "display_name": "Python 3 (ipykernel)",
   "language": "python",
   "name": "python3"
  },
  "language_info": {
   "codemirror_mode": {
    "name": "ipython",
    "version": 3
   },
   "file_extension": ".py",
   "mimetype": "text/x-python",
   "name": "python",
   "nbconvert_exporter": "python",
   "pygments_lexer": "ipython3",
   "version": "3.12.4"
  }
 },
 "nbformat": 4,
 "nbformat_minor": 5
}
